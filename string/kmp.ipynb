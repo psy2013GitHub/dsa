{
 "cells": [
  {
   "cell_type": "code",
   "execution_count": 15,
   "metadata": {},
   "outputs": [],
   "source": [
    "core design idea:\n",
    "    1, usage of already matched string\n",
    "    2, self-contain of pattern string\n",
    "difficulty:\n",
    "    1, computation of `next`"
   ]
  },
  {
   "cell_type": "code",
   "execution_count": null,
   "metadata": {},
   "outputs": [],
   "source": [
    "# each element of `next_array` means length of the longest-prefix-suffix-str tailed by `pat_str[i]`\n",
    "def get_next(pat_str):\n",
    "    assert len(pat_str) > 0\n",
    "    next_array = [0, ] * len(pat_str)\n",
    "    i = 1\n",
    "    while i < len(pat_str):\n",
    "        k = next_array[i-1] # length of the longest-prefix-suffix-str tailed by `pat_str[i-1]`\n",
    "        if pat_str[i] == pat_str[k]:\n",
    "            next_array[i] = next_array[i-1] + 1\n",
    "            i += 1\n",
    "        else:\n",
    "            k = next_array[i-1]\n",
    "            while k != 0 and pat_str[i] != pat_str[k-1]: # !!! attention, `pat_str[k-1]` NOT`pat_str[k]`\n",
    "                k = next_array[k-1]\n",
    "            if k == 0 and pat_str[i] != pat_str[0]: # match the first char, then check if equal\n",
    "                next_array[i] = 0\n",
    "            else: # pat_str[i] == pat_str[k-1]\n",
    "                next_array[i] = k + 1\n",
    "            i += 1\n",
    "    return next_array"
   ]
  },
  {
   "cell_type": "code",
   "execution_count": 16,
   "metadata": {},
   "outputs": [
    {
     "data": {
      "text/plain": [
       "[0, 0, 0, 1, 2, 3, 4, 0, 1, 2]"
      ]
     },
     "execution_count": 16,
     "output_type": "execute_result",
     "metadata": {}
    }
   ],
   "source": [
    "get_next('abcabcacab')"
   ]
  },
  {
   "cell_type": "code",
   "execution_count": 17,
   "metadata": {},
   "outputs": [
    {
     "data": {
      "text/plain": [
       "[0, 0, 0, 1, 2, 3, 4, 5, 1, 2]"
      ]
     },
     "execution_count": 17,
     "output_type": "execute_result",
     "metadata": {}
    }
   ],
   "source": [
    "get_next('abcabcabab')"
   ]
  },
  {
   "cell_type": "code",
   "execution_count": 44,
   "metadata": {},
   "outputs": [],
   "source": [
    "def error_kmp1(target, pat_str):\n",
    "    next_array = get_next(pat_str)\n",
    "    i, j = 0, 0\n",
    "    while i < len(target) and j < len(pat_str):\n",
    "        if target[i] == pat_str[j]:\n",
    "            i += 1\n",
    "            j += 1\n",
    "        else:\n",
    "            j = next_array[j] # ERROR: to know why here is `next_array[j-1]`, see `pat_str='abcabcx'` as an example\n",
    "    if j == len(pat_str):\n",
    "        return i - len(pat_str)\n",
    "    return -1"
   ]
  },
  {
   "cell_type": "code",
   "execution_count": null,
   "metadata": {},
   "outputs": [],
   "source": [
    "error_kmp1('abcdefg', 'abab')"
   ]
  },
  {
   "cell_type": "code",
   "execution_count": null,
   "metadata": {},
   "outputs": [],
   "source": [
    "def error_kmp2(target, pat_str):\n",
    "    next_array = get_next(pat_str)\n",
    "    print next_array\n",
    "    i, j = 0, 0\n",
    "    while i < len(target) and j < len(pat_str):\n",
    "        if target[i] == pat_str[j]:\n",
    "            i += 1\n",
    "            j += 1\n",
    "        else:\n",
    "            # ERROR: do not forget j-1 < 0 !!!\n",
    "            j = next_array[j-1] # to know why here is `next_array[j-1]`, see `pat_str='abcabcx'` as an example\n",
    "    if j == len(pat_str):\n",
    "        return i - len(pat_str)\n",
    "    return -1"
   ]
  },
  {
   "cell_type": "code",
   "execution_count": null,
   "metadata": {},
   "outputs": [],
   "source": [
    "error_kmp2('ababaf', 'anaba')"
   ]
  },
  {
   "cell_type": "code",
   "execution_count": 41,
   "metadata": {},
   "outputs": [],
   "source": [
    "def error_kmp1(target, pat_str):\n",
    "    next_array = get_next(pat_str)\n",
    "    print next_array\n",
    "    i, j = 0, 0\n",
    "    while i < len(target) and j < len(pat_str):\n",
    "        if target[i] == pat_str[j]:\n",
    "            i += 1\n",
    "            j += 1\n",
    "        else:\n",
    "            if j == 0: # do not forget j-1 < 0 !!!\n",
    "                i += 1\n",
    "                continue\n",
    "            j = next_array[j-1] # to know why here is `next_array[j-1]`, see `pat_str='abcabcx'` as an example\n",
    "    if j == len(pat_str):\n",
    "        return i - len(pat_str)\n",
    "    return -1"
   ]
  },
  {
   "cell_type": "code",
   "execution_count": null,
   "metadata": {},
   "outputs": [],
   "source": [
    ""
   ]
  }
 ],
 "metadata": {
  "anaconda-cloud": {},
  "kernelspec": {
   "display_name": "Python [conda root]",
   "language": "python",
   "name": "conda-root-py"
  },
  "language_info": {
   "codemirror_mode": {
    "name": "ipython",
    "version": 3.0
   },
   "file_extension": ".py",
   "mimetype": "text/x-python",
   "name": "python",
   "nbconvert_exporter": "python",
   "pygments_lexer": "ipython3",
   "version": "3.5.2"
  }
 },
 "nbformat": 4,
 "nbformat_minor": 0
}